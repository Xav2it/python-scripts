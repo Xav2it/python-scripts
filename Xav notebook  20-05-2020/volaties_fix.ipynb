{
 "cells": [
  {
   "cell_type": "code",
   "execution_count": 1,
   "metadata": {},
   "outputs": [
    {
     "output_type": "error",
     "ename": "SyntaxError",
     "evalue": "invalid syntax (<ipython-input-1-94c60d613860>, line 39)",
     "traceback": [
      "\u001b[0;36m  File \u001b[0;32m\"<ipython-input-1-94c60d613860>\"\u001b[0;36m, line \u001b[0;32m39\u001b[0m\n\u001b[0;31m    df_results.to_excel('export_log_return.xlsx')import datetime\u001b[0m\n\u001b[0m                                                      ^\u001b[0m\n\u001b[0;31mSyntaxError\u001b[0m\u001b[0;31m:\u001b[0m invalid syntax\n"
     ]
    }
   ],
   "source": [
    "import datetime\n",
    "import pandas as pd\n",
    "import requests\n",
    "import numpy as np\n",
    "\n",
    "\n",
    "df_results = pd.read_csv('LastQuarterSpot.csv')\n",
    "df_results.columns = ['id', 'currency pair', 'Datetimestamp', 'toDelete', 'price']\n",
    "\n",
    "df_results['log_return'] = np.nan\n",
    "df_results['Datetimestamp'] = pd.to_datetime(df_results['Datetimestamp'])\n",
    "df_results.set_index('Datetimestamp', inplace= True)\n",
    "df_results.drop(['toDelete'],axis =1, inplace=True)\n",
    "\n",
    "currencyList = df_results['currency pair'].unique()\n",
    "dfList = []\n",
    "total_result = pd.DataFrame()\n",
    "# Go through the different currencies to produce separate files\n",
    "for i in currencyList :\n",
    "    \n",
    "    \n",
    "    tempdf = pd.DataFrame()\n",
    "    Dailyvalues = pd.DataFrame()\n",
    "    \n",
    "\n",
    "    # Here we build a list of index values corresponding to the first line of each day\n",
    "    # It is used below to filter values to include in the log return\n",
    "\n",
    "    firstDailyLinesID = df_results.groupby(df_results.index.day).first().id.to_list()\n",
    "\n",
    "    # Now we run through the dataframe to calculate the log return\n",
    "    for i in range(1,len(df_results)) :\n",
    "        # log return calculation excluding the first line of each day\n",
    "        if i not in firstDailyLinesID :\n",
    "            df_results['log_return'][i] = np.log(df_results['price'][i]/df_results['price'][i-1])\n",
    "\n",
    "\n",
    "df_results\n",
    "df_results.to_excel('export_log_return.xlsx')import datetime\n",
    "import pandas as pd\n",
    "import requests\n",
    "import numpy as np\n",
    "\n",
    "\n",
    "df_results = pd.read_csv('LastQuarterSpot.csv')\n",
    "df_results.columns = ['id', 'currency pair', 'Datetimestamp', 'toDelete', 'price']\n",
    "\n",
    "df_results['log_return'] = np.nan\n",
    "df_results['Datetimestamp'] = pd.to_datetime(df_results['Datetimestamp'])\n",
    "df_results.set_index('Datetimestamp', inplace= True)\n",
    "df_results.drop(['toDelete'],axis =1, inplace=True)\n",
    "\n",
    "currencyList = df_results['currency pair'].unique()\n",
    "dfList = []\n",
    "total_result = pd.DataFrame()\n",
    "# Go through the different currencies to produce separate files\n",
    "for i in currencyList :\n",
    "    \n",
    "    \n",
    "    tempdf = pd.DataFrame()\n",
    "    tempdf = df_results[df_results['currency Pair']==i].copy()\n",
    "    tempdf = tempdf.sort_values(['Datetimestamp'])\n",
    "    Dailyvalues = pd.DataFrame()\n",
    "    \n",
    "\n",
    "    # Here we build a list of index values corresponding to the first line of each day\n",
    "    # It is used below to filter values to include in the log return\n",
    "\n",
    "    firstDailyLinesID = tempdf.groupby(ttempdf.index.day).first().id.to_list()\n",
    "\n",
    "    # Now we run through the dataframe to calculate the log return\n",
    "    for i in range(1,len(tempdf)) :\n",
    "        # log return calculation excluding the first line of each day\n",
    "        if i not in firstDailyLinesID :\n",
    "            tempdf['log_return'][i] = np.log(tempdf['price'][i]/tempdf['price'][i-1])\n",
    "\n",
    "    total_result = pd.concat([total_result, tempdf])\n",
    "\n",
    "total_result\n",
    "df_results.to_excel('export_log_return.xlsx')"
   ]
  },
  {
   "cell_type": "code",
   "execution_count": null,
   "metadata": {},
   "outputs": [],
   "source": []
  }
 ],
 "metadata": {
  "language_info": {
   "codemirror_mode": {
    "name": "ipython",
    "version": 3
   },
   "file_extension": ".py",
   "mimetype": "text/x-python",
   "name": "python",
   "nbconvert_exporter": "python",
   "pygments_lexer": "ipython3",
   "version": "3.7.0-final"
  },
  "orig_nbformat": 2,
  "kernelspec": {
   "name": "10b0d883-e4d9-4812-acc1-bf685539c537",
   "display_name": "'Python Interactive'"
  }
 },
 "nbformat": 4,
 "nbformat_minor": 2
}